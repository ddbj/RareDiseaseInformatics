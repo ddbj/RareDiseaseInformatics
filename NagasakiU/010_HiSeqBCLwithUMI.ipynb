{
 "cells": [
  {
   "cell_type": "markdown",
   "metadata": {},
   "source": [
    "# Convert BCL to FASTQ with UMI preprocessing\n",
    "- convert HiSeq2500 raw data to fastq and perform preprocesing for unique molecular identifiers (UMI)\n",
    "\n",
    "\n",
    "1. (010) parse samplesheet.csv to generate barcodefile.txt and library_params_laneN.txt\n",
    "1. (020-030) run Picard ExtracrtIlluminaBarcodes\n",
    "1. (040-050) run Picard IlluminaBasecallsToSam (generate unaligned bam [u.bam] files)\n",
    "1. (060-070) run Picard SamToFastq"
   ]
  },
  {
   "cell_type": "code",
   "execution_count": 7,
   "metadata": {},
   "outputs": [
    {
     "name": "stdout",
     "output_type": "stream",
     "text": [
      "合計 924\n",
      "drwxrwxr-x 14 misshie misshie    8192  9月 17 14:13 \u001b[0m\u001b[38;5;5m.\u001b[0m\n",
      "drwxrwxr-x 27 misshie genetics   8192  3月 11 16:00 \u001b[38;5;5m..\u001b[0m\n",
      "-rwxrwxr-x  1 misshie misshie    2872  4月 23  2019 \u001b[38;5;202m010_parse_samplesheet-Barcode1.rb\u001b[0m\n",
      "-rwxrwxr-x  1 misshie misshie     637  4月 22  2019 \u001b[38;5;202m020_deploy-ExtractIlluminaBarcodes.rb\u001b[0m\n",
      "-rwxrwxr-x  1 misshie misshie     394  4月 23  2019 \u001b[38;5;202m030_submit-ExtractIlluminaBarcodes.rb\u001b[0m\n",
      "-rwxrwxr-x  1 misshie misshie     795  4月 18  2019 \u001b[38;5;202m040_deploy_IlmnBasecallToSam.rb\u001b[0m\n",
      "-rwxrwxr-x  1 misshie misshie     378  4月 23  2019 \u001b[38;5;202m050_submit-BasecallToSam.rb\u001b[0m\n",
      "-rwxrwxr-x  1 misshie misshie    1015  4月 25  2019 \u001b[38;5;202m060_deploy_SamToFastq.rb\u001b[0m\n",
      "-rwxrwxr-x  1 misshie misshie     390  9月 17 12:29 \u001b[38;5;202m070_submit-SamToFastq.rb\u001b[0m\n",
      "drwxrwxr-x  2 misshie misshie       6  9月 10  2019 \u001b[38;5;5mBarcodeImages\u001b[0m\n",
      "drwxr-xr-x  2 misshie misshie    4096  9月 11  2019 \u001b[38;5;5mBarcodes_outputdir_lane1\u001b[0m\n",
      "drwxr-xr-x  2 misshie misshie    4096  9月 11  2019 \u001b[38;5;5mBarcodes_outputdir_lane2\u001b[0m\n",
      "-rw-rw-r--  1 misshie misshie      45  9月 10  2019 Basecalling_Netcopy_complete.txt\n",
      "-rw-rw-r--  1 misshie misshie      45  9月 10  2019 Basecalling_Netcopy_complete_Read1.txt\n",
      "-rw-rw-r--  1 misshie misshie      45  9月 10  2019 Basecalling_Netcopy_complete_Read2.txt\n",
      "-rw-rw-r--  1 misshie misshie      45  9月 10  2019 Basecalling_Netcopy_complete_Read3.txt\n",
      "-rw-rw-r--  1 misshie misshie      45  9月 10  2019 Basecalling_Netcopy_complete_Read4.txt\n",
      "drwxrwxr-x  2 misshie misshie    4096  9月 10  2019 \u001b[38;5;5mConfig\u001b[0m\n",
      "drwxrwxr-x  4 misshie misshie      74  9月 10  2019 \u001b[38;5;5mData\u001b[0m\n",
      "-rw-rw-r--  1 misshie misshie    1641  9月  9  2019 First_Base_Report.htm\n",
      "-rw-rw-r--  1 misshie misshie    2861  9月  9  2019 HiSeq2500_SampleSheet20190909_UMI.csv\n",
      "-rw-rw-r--  1 misshie misshie      45  9月 10  2019 ImageAnalysis_Netcopy_complete.txt\n",
      "-rw-rw-r--  1 misshie misshie      45  9月 10  2019 ImageAnalysis_Netcopy_complete_Read1.txt\n",
      "-rw-rw-r--  1 misshie misshie      45  9月 10  2019 ImageAnalysis_Netcopy_complete_Read2.txt\n",
      "-rw-rw-r--  1 misshie misshie      45  9月 10  2019 ImageAnalysis_Netcopy_complete_Read3.txt\n",
      "-rw-rw-r--  1 misshie misshie      45  9月 10  2019 ImageAnalysis_Netcopy_complete_Read4.txt\n",
      "drwxrwxr-x  2 misshie misshie    4096  9月 10  2019 \u001b[38;5;5mInterOp\u001b[0m\n",
      "drwxrwxr-x  3 misshie misshie   16384  9月 10  2019 \u001b[38;5;5mLogs\u001b[0m\n",
      "drwxrwxr-x  2 misshie misshie      44  9月 10  2019 \u001b[38;5;5mPeriodicSaveRates\u001b[0m\n",
      "-rw-rw-r--  1 misshie misshie      45  9月 10  2019 RTAComplete.txt\n",
      "drwxrwxr-x  2 misshie misshie      67  9月 10  2019 \u001b[38;5;5mRecipe\u001b[0m\n",
      "-rw-rw-r--  1 misshie misshie     756  9月  9  2019 RunInfo.xml\n",
      "lrwxrwxrwx  1 misshie misshie      37  9月 11  2019 \u001b[38;5;37mSampleSheet.csv\u001b[0m -> HiSeq2500_SampleSheet20190909_UMI.csv\n",
      "drwxrwxr-x  2 misshie misshie     122  5月  7  2019 \u001b[38;5;5mTemplates\u001b[0m\n",
      "drwxrwxr-x  4 misshie misshie      40  9月  9  2019 \u001b[38;5;5mThumbnail_Images\u001b[0m\n",
      "drwxrwxr-x  5 misshie misshie      88  9月 11  2019 \u001b[38;5;5mUnaligned\u001b[0m\n",
      "-rw-r--r--  1 misshie misshie    7270  9月 11  2019 barcode_lane1.log\n",
      "-rw-r--r--  1 misshie misshie    7270  9月 11  2019 barcode_lane2.log\n",
      "-rw-r--r--  1 misshie misshie    2998  9月 11  2019 barcode_metrics_lane1.txt\n",
      "-rw-r--r--  1 misshie misshie    3000  9月 11  2019 barcode_metrics_lane2.txt\n",
      "-rw-rw-r--  1 misshie misshie     691  9月 11  2019 barcodefile.txt\n",
      "-rw-r--r--  1 misshie misshie  203056  9月 17 14:03 illuminaBasecallsToSam_lane1.log\n",
      "-rw-r--r--  1 misshie misshie  203274  9月 17 14:00 illuminaBasecallsToSam_lane2.log\n",
      "-rw-rw-r--  1 misshie misshie    1871  9月 11  2019 library_params_lane1.txt\n",
      "-rw-rw-r--  1 misshie misshie    1871  9月 11  2019 library_params_lane2.txt\n",
      "-rw-rw-r--  1 misshie misshie    5477  9月  9  2019 runParameters.xml\n",
      "-rw-rw-r--  1 misshie misshie    1093  9月 17 13:16 sge-BasecallToSam_lane1.sh\n",
      "-rw-rw-r--  1 misshie misshie    1093  9月 17 13:16 sge-BasecallToSam_lane2.sh\n",
      "-rw-rw-r--  1 misshie misshie     798  9月 11  2019 sge-ExtractIlluminaBarcodes_lane1.sh\n",
      "-rw-rw-r--  1 misshie misshie     798  9月 11  2019 sge-ExtractIlluminaBarcodes_lane2.sh\n",
      "-rw-rw-r--  1 misshie misshie     991  9月 17 14:10 sge-SamToFastq_lane1-0.sh\n",
      "-rw-r--r--  1 misshie misshie    7857  9月 17 14:26 sge-SamToFastq_lane1-0.sh.log\n"
     ]
    }
   ],
   "source": [
    "cd /peta/top/raw_data/HiSeq2500/190909_D00385_0273_BHY2VKBCX2_UMI\n",
    "ls -al"
   ]
  },
  {
   "cell_type": "code",
   "execution_count": 3,
   "metadata": {},
   "outputs": [
    {
     "name": "stdout",
     "output_type": "stream",
     "text": [
      "FCID,Lane,SampleID,SampleRef,Index,Index2,Description,Control,Recipe,Operator,SampleProject\n",
      "HY2VKBCX2,1,NGSK_dummy_dummy_dummy,hg19,GCCAAGAC,NNNNNNNNNN,NGSK_dummy_dummy_dummy,N,Agilent_indexing,dummy,Project1\n",
      "HY2VKBCX2,1,NGSK_dummy_dummy_dummyFather,hg19,CTGTAGCC,NNNNNNNNNN,NGSK_dummy_dummy_dummyFather,N,Agilent_indexing,dummy,Project1\n",
      "HY2VKBCX2,1,NGSK_dummy_dummy_dummyMother,hg19,CGCTGATC,NNNNNNNNNN,NGSK_dummy_dummy_dummyMother,N,Agilent_indexing,dummy,Project1\n",
      "HY2VKBCX2,2,NGSK_dummy_dummy_dummy,hg19,GCCAAGAC,NNNNNNNNNN,NGSK_dummy_dummy_dummy,N,Agilent_indexing,dummy,Project1\n",
      "HY2VKBCX2,2,NGSK_dummy_dummy_dummyFather,hg19,CTGTAGCC,NNNNNNNNNN,NGSK_dummy_dummy_dummyFather,N,Agilent_indexing,dummy,Project1\n",
      "HY2VKBCX2,2,NGSK_dummy_dummy_dummyMother,hg19,CGCTGATC,NNNNNNNNNN,NGSK_dummy_dummy_dummyMother,N,Agilent_indexing,dummy,Project1\n"
     ]
    }
   ],
   "source": [
    "cat SampleSheet.csv"
   ]
  },
  {
   "cell_type": "code",
   "execution_count": 2,
   "metadata": {},
   "outputs": [
    {
     "name": "stdout",
     "output_type": "stream",
     "text": [
      "#!/usr/bin/env ruby\n",
      "require 'optparse'\n",
      "require 'fileutils'\n",
      "\n",
      "class Klass\n",
      "  SSHEET = \"SampleSheet.csv\"\n",
      "  BCFILE = \"barcodefile.txt\"\n",
      "  LIBPARFILE = \"library_params\"\n",
      "  UNALIGNED = \"Unaligned\"\n",
      "\n",
      "  BCFILE_HEADER = \"barcode_name\\tlibrary_name\\tbarcode_sequence_1\"\n",
      "  BcRec = Struct.new(:bcname, :libname, :bcseq1, :bcseq2)\n",
      "  LIBPAR_HEADER = \"BARCODE_1\\tSAMPLE_ALIAS\\tLIBRARY_NAME\\tOUTPUT\"\n",
      "  ParRec = Struct.new(:bcseq1, :sample, :libname, :outbam)\n",
      "  SSheetRec = Struct.new(:fcid, :lane, :sampleid, :sampleref,\n",
      "                         :index1, :index2,\n",
      "                         :description, :control, :recipe, :operator, :project)\n",
      "\n",
      "  attr_reader :opts, :ssheets\n",
      "  \n",
      "  def initialize(opts)\n",
      "    @opts = opts\n",
      "  end\n",
      "\n",
      "  def load_samplesheet\n",
      "    @ssheets = Array.new\n",
      "    File.readlines(SSHEET).each_with_index do |row, nrow|\n",
      "      row.chomp!\n",
      "      next if nrow.zero?\n",
      "      next if row.gsub(/,/, \"\").empty?\n",
      "      @ssheets << SSheetRec.new(*row.split(\",\"))\n",
      "    end\n",
      "  end\n",
      "\n",
      "  def make_bcfile\n",
      "    open(BCFILE, \"w\") do |fout|\n",
      "      fout.puts BCFILE_HEADER\n",
      "      ssheets.select{|x|x.lane==\"1\"}.each do |ss|\n",
      "        bcrec = BcRec.new\n",
      "        bcrec.bcname = ss.sampleid\n",
      "        bcrec.libname = ss.sampleid\n",
      "        bcrec.bcseq1 = ss.index1 + ss.index2\n",
      "        fout.puts bcrec.to_a.join(\"\\t\")\n",
      "      end\n",
      "    end\n",
      "  end\n",
      "\n",
      "  def make_libpar\n",
      "    ssheets.map{|x|x.lane}.sort.uniq.each do |lane|\n",
      "      open(\"#{LIBPARFILE}_lane#{lane}.txt\", \"w\") do |fout|\n",
      "        fout.puts LIBPAR_HEADER\n",
      "        ssheets.select{|x|x.lane == lane}.each do |ss|\n",
      "          parrec = ParRec.new\n",
      "          outdir = \"#{UNALIGNED}/Project_#{ss.project}/Sample_#{ss.sampleid}\"\n",
      "          FileUtils.mkdir_p outdir\n",
      "          parrec.outbam = \"#{outdir}/#{ss.sampleid}_#{ss.index1}#{ss.index2}_L00#{lane}.u.bam\"\n",
      "          parrec.sample = ss.sampleid\n",
      "          parrec.libname = ss.sampleid\n",
      "          parrec.bcseq1 = ss.index1 + ss.index2\n",
      "          fout.puts parrec.to_a.join(\"\\t\")\n",
      "        end\n",
      "        parrec = ParRec.new\n",
      "        outdir = \"#{UNALIGNED}/Undetermined_indices/Sample_lane#{lane}\"\n",
      "        FileUtils.mkdir_p outdir\n",
      "        parrec.outbam = \"#{outdir}/lane#{lane}_Undetermined_L00#{lane}.u.bam\"\n",
      "        parrec.sample = \"Unmached\"\n",
      "        parrec.libname = \"Unmached\"\n",
      "        parrec.bcseq1 = \"N\"\n",
      "        fout.puts parrec.to_a.join(\"\\t\")\n",
      "      end\n",
      "    end\n",
      "  end\n",
      "  \n",
      "  def run\n",
      "    load_samplesheet\n",
      "    make_bcfile\n",
      "    make_libpar\n",
      "  end\n",
      "end\n",
      "\n",
      "if $0 == __FILE__\n",
      "  opts = ARGV.getopts(\"h\")\n",
      "  Klass.new(opts.map{|k,v|[k.to_sym, v]}.to_h).run\n",
      "end\n"
     ]
    }
   ],
   "source": [
    "cat 010_parse_samplesheet-Barcode1.rb"
   ]
  },
  {
   "cell_type": "code",
   "execution_count": 4,
   "metadata": {},
   "outputs": [
    {
     "name": "stdout",
     "output_type": "stream",
     "text": [
      "barcode_name\tlibrary_name\tbarcode_sequence_1\n",
      "NGSK_dummy_dummy_dummy\tNGSK_dummy_dummy_dummy\tGCCAAGACNNNNNNNNNN\t\n",
      "NGSK_dummy_dummy_dummyFather\tNGSK_dummy_dummy_dummyFather\tCTGTAGCCNNNNNNNNNN\t\n",
      "NGSK_dummy_dummy_dummyMother\tNGSK_dummy_dummy_dummyMother\tCGCTGATCNNNNNNNNNN\t\n"
     ]
    }
   ],
   "source": [
    "cat barcodefile.txt"
   ]
  },
  {
   "cell_type": "code",
   "execution_count": 8,
   "metadata": {},
   "outputs": [
    {
     "name": "stdout",
     "output_type": "stream",
     "text": [
      "BARCODE_1\tSAMPLE_ALIAS\tLIBRARY_NAME\tOUTPUT\n",
      "GCCAAGACNNNNNNNNNN\tNGSK_dummy_dummy_dummy\tNGSK_dummy_dummy_dummy\tUnaligned/Project_dummy-P/Sample_NGSK_dummy_dummy_dummy/NGSK_dummy_dummy_dummy_GCCAAGACNNNNNNNNNN_L001.u.bam\n",
      "CTGTAGCCNNNNNNNNNN\tNGSK_dummy_dummy_dummyFather\tNGSK_dummy_dummy_dummyFather\tUnaligned/Project_dummy-P/Sample_NGSK_dummy_dummy_dummyFather/NGSK_dummy_dummy_dummyFather_CTGTAGCCNNNNNNNNNN_L001.u.bam\n",
      "CGCTGATCNNNNNNNNNN\tNGSK_dummy_dummy_dummyMother\tNGSK_dummy_dummy_dummyMother\tUnaligned/Project_dummy-P/Sample_NGSK_dummy_dummy_dummyMother/NGSK_dummy_dummy_dummyMother_CGCTGATCNNNNNNNNNN_L001.u.bam\n",
      "N\tUnmached\tUnmached\tUnaligned/Undetermined_indices/Sample_lane1/lane1_Undetermined_L001.u.bam\n"
     ]
    }
   ],
   "source": [
    "cat library_params_lane1.txt"
   ]
  },
  {
   "cell_type": "code",
   "execution_count": 9,
   "metadata": {},
   "outputs": [
    {
     "name": "stdout",
     "output_type": "stream",
     "text": [
      "#!/bin/bash\n",
      "#$ -S /bin/bash\n",
      "#$ -N <%= jobname %>\n",
      "#$ -cwd\n",
      "#$ -m abe\n",
      "#$ -M root\n",
      "#$ -j yes\n",
      "#$ -pe smp 32\n",
      "#$ -q all.q\n",
      "set -euo pipefail\n",
      "\n",
      ": \"embeded parameters\", && {\n",
      "    lane=<%= lane %>\n",
      "}\n",
      "\n",
      ": \"file paths and settings\" && {\n",
      "    rs=\"100T8B10M100T\"\n",
      "    threads=8\n",
      "    jar=/xcatopt/picard-tools-2.19.0/picard.jar\n",
      "    basecalldir=./Data/Intensities/BaseCalls\n",
      "    java=/xcatopt/jre1.8.0_212/bin/java\n",
      "}\n",
      "\n",
      ": \"run picard\" && {\n",
      "\n",
      "    mkdir -p Barcodes_outputdir_lane${lane}\n",
      "    ${java} -Xmx8g \\\n",
      "\t -jar ${jar} \\\n",
      "\t ExtractIlluminaBarcodes \\\n",
      "\t BASECALLS_DIR=${basecalldir} \\\n",
      "\t BARCODE_FILE=barcodefile.txt \\\n",
      "\t READ_STRUCTURE=${rs} \\\n",
      "\t LANE=${lane} \\\n",
      "\t OUTPUT_DIR=Barcodes_outputdir_lane${lane} \\\n",
      "\t COMPRESS_OUTPUTS=true \\\n",
      "\t METRICS_FILE=barcode_metrics_lane${lane}.txt \\\n",
      "\t NUM_PROCESSORS=${threads} \\\n",
      "\t > barcode_lane${lane}.log 2>&1\n",
      "}\n"
     ]
    }
   ],
   "source": [
    "cat Templates/sge-ExtractIlluminaBarcodes.sh.erb"
   ]
  },
  {
   "cell_type": "code",
   "execution_count": 10,
   "metadata": {},
   "outputs": [
    {
     "name": "stdout",
     "output_type": "stream",
     "text": [
      "#!/usr/bin/env ruby\n",
      "# Ruby 2.5 and later\n",
      "\n",
      "require 'erb'\n",
      "require 'fileutils'\n",
      "require 'time'\n",
      "\n",
      "class DeploySamples\n",
      "  NUM_LANES = 2\n",
      "  ERBFILE   = \"./Templates/sge-ExtractIlluminaBarcodes.sh.erb\"\n",
      "  SUBMITTER = \"sge-ExtractIlluminaBarcodes_lane<%>.sh\"\n",
      "  \n",
      "  def run\n",
      "    STDOUT.sync = true\n",
      "    (1..NUM_LANES).each do |lane|      \n",
      "      submitter = SUBMITTER.sub(/<%>/, lane.to_s)\n",
      "      template = ERB.new File.read(ERBFILE)\n",
      "      open(submitter, 'w') do |fout|\n",
      "        fout.puts template.result_with_hash \\\n",
      "          jobname: \"extbc#{lane}\", \\\n",
      "          lane: lane\n",
      "      end\n",
      "    end\n",
      "  end\n",
      "    \n",
      "end\n",
      "\n",
      "if $0 == __FILE__\n",
      "  DeploySamples.new.run\n",
      "end\n"
     ]
    }
   ],
   "source": [
    "cat 020_deploy-ExtractIlluminaBarcodes.rb"
   ]
  },
  {
   "cell_type": "code",
   "execution_count": 11,
   "metadata": {},
   "outputs": [
    {
     "name": "stdout",
     "output_type": "stream",
     "text": [
      "#!/bin/bash\n",
      "#$ -S /bin/bash\n",
      "#$ -N extbc1\n",
      "#$ -cwd\n",
      "#$ -m abe\n",
      "#$ -M root\n",
      "#$ -j yes\n",
      "#$ -pe smp 32\n",
      "#$ -q all.q\n",
      "set -euo pipefail\n",
      "\n",
      ": \"embeded parameters\", && {\n",
      "    lane=1\n",
      "}\n",
      "\n",
      ": \"file paths and settings\" && {\n",
      "    rs=\"100T8B10M100T\"\n",
      "    threads=8\n",
      "    jar=/xcatopt/picard-tools-2.19.0/picard.jar\n",
      "    basecalldir=./Data/Intensities/BaseCalls\n",
      "    java=/xcatopt/jre1.8.0_212/bin/java\n",
      "}\n",
      "\n",
      ": \"run picard\" && {\n",
      "\n",
      "    mkdir -p Barcodes_outputdir_lane${lane}\n",
      "    ${java} -Xmx8g \\\n",
      "\t -jar ${jar} \\\n",
      "\t ExtractIlluminaBarcodes \\\n",
      "\t BASECALLS_DIR=${basecalldir} \\\n",
      "\t BARCODE_FILE=barcodefile.txt \\\n",
      "\t READ_STRUCTURE=${rs} \\\n",
      "\t LANE=${lane} \\\n",
      "\t OUTPUT_DIR=Barcodes_outputdir_lane${lane} \\\n",
      "\t COMPRESS_OUTPUTS=true \\\n",
      "\t METRICS_FILE=barcode_metrics_lane${lane}.txt \\\n",
      "\t NUM_PROCESSORS=${threads} \\\n",
      "\t > barcode_lane${lane}.log 2>&1\n",
      "}\n"
     ]
    }
   ],
   "source": [
    "cat sge-ExtractIlluminaBarcodes_lane1.sh"
   ]
  },
  {
   "cell_type": "code",
   "execution_count": 12,
   "metadata": {},
   "outputs": [
    {
     "name": "stdout",
     "output_type": "stream",
     "text": [
      "#!/bin/bash\n",
      "#$ -S /bin/bash\n",
      "#$ -N bc2sam1\n",
      "#$ -cwd\n",
      "#$ -m abe\n",
      "#$ -M root\n",
      "#$ -j yes\n",
      "#$ -pe smp 32\n",
      "#$ -q all.q\n",
      "set -euo pipefail\n",
      "\n",
      ": \"embeded parameters\", && {\n",
      "    barcodedir=Barcodes_outputdir_lane1\n",
      "    lane=1\n",
      "    libparams=library_params_lane1.txt\n",
      "}\n",
      "\n",
      ": \"file paths and settings\" && {\n",
      "    rs=\"100T8B10M100T\"\n",
      "    threads=8\n",
      "    jar=/xcatopt/picard-tools-2.19.0/picard.jar\n",
      "    basecalldir=./Data/Intensities/BaseCalls\n",
      "    scratch=/peta/btm/scratch\n",
      "    seqcenter=\"GenkenIden\"\n",
      "    machineid=\"HWI-D00385\"\n",
      "    java=/xcatopt/jre1.8.0_212/bin/java\n",
      "}\n",
      "\n",
      ": \"run picard\" && {\n",
      "    ${java} -Xmx64g \\\n",
      "\t -jar ${jar} \\\n",
      "\t IlluminaBasecallsToSam \\\n",
      "\t BASECALLS_DIR=${basecalldir} \\\n",
      "\t BARCODES_DIR=${barcodedir} \\\n",
      "\t LANE=${lane} \\\n",
      "\t READ_STRUCTURE=${rs} \\\n",
      "\t SEQUENCING_CENTER=${seqcenter} \\\n",
      "\t RUN_BARCODE=${machineid} \\\n",
      "\t LIBRARY_PARAMS=${libparams} \\\n",
      "\t ADAPTERS_TO_CHECK=INDEXED \\\n",
      "\t ADAPTERS_TO_CHECK=DUAL_INDEXED \\\n",
      "\t ADAPTERS_TO_CHECK=PAIRED_END \\\n",
      "\t MOLECULAR_INDEX_TAG=RX \\\n",
      "\t MOLECULAR_INDEX_BASE_QUALITY_TAG=QX \\\n",
      "\t TMP_DIR=${scratch} \\\n",
      "\t NUM_PROCESSORS=${threads} \\\n",
      "\t > illuminaBasecallsToSam_lane${lane}.log 2>&1\n",
      "}\n"
     ]
    }
   ],
   "source": [
    "cat sge-BasecallToSam_lane1.sh"
   ]
  },
  {
   "cell_type": "code",
   "execution_count": 13,
   "metadata": {},
   "outputs": [
    {
     "name": "stdout",
     "output_type": "stream",
     "text": [
      "#!/usr/bin/env ruby\n",
      "# Ruby 2.5 and later\n",
      "\n",
      "require 'erb'\n",
      "require 'fileutils'\n",
      "require 'time'\n",
      "\n",
      "class DeploySamples\n",
      "\n",
      "  ERBFILE   = \"./Templates/sge-SamToFastq.sh.erb\"\n",
      "  SUBMITTER = \"sge-SamToFastq_lane<%>.sh\"\n",
      "  \n",
      "  def run\n",
      "    STDOUT.sync = true\n",
      "    Dir[\"Unaligned/Project_*/Sample_*/*.u.bam\"].sort.each_with_index do |ubam, idx|\n",
      "      warn \"Processing #{File.basename(ubam)}..\"\n",
      "      sects = File.basename(ubam).split(\"_\")\n",
      "      lane = sects[-1].sub(/^L00/,\"\").sub(/\\.u\\.bam$/, \"\")\n",
      "      fastq1 = ubam.sub(/\\.u\\.bam$/,\"_R1_001.fastq.gz\")\n",
      "      fastq2 = ubam.sub(/\\.u\\.bam$/,\"_R2_001.fastq.gz\")\n",
      "      submitter = SUBMITTER.sub(/<%>/, \"#{lane}-#{idx}\")\n",
      "      template = ERB.new File.read(ERBFILE)\n",
      "      open(submitter, 'w') do |fout|\n",
      "        fout.puts template.result_with_hash \\\n",
      "          jobname: \"b2fq#{lane}-#{idx}\", \\\n",
      "          inputbam: ubam, \\\n",
      "          fastq1: fastq1, \\\n",
      "          fastq2: fastq2, \\\n",
      "          log: \"#{submitter}.log\"\n",
      "      end\n",
      "    end\n",
      "  end\n",
      "    \n",
      "end\n",
      "\n",
      "if $0 == __FILE__\n",
      "  DeploySamples.new.run\n",
      "end\n"
     ]
    }
   ],
   "source": [
    "cat 060_deploy_SamToFastq.rb"
   ]
  },
  {
   "cell_type": "code",
   "execution_count": 14,
   "metadata": {},
   "outputs": [
    {
     "name": "stdout",
     "output_type": "stream",
     "text": [
      "#!/bin/bash\n",
      "#$ -S /bin/bash\n",
      "#$ -N <%= jobname %>\n",
      "#$ -cwd\n",
      "#$ -m abe\n",
      "#$ -M root\n",
      "#$ -j yes\n",
      "#$ -pe smp 8\n",
      "#$ -q all.q\n",
      "set -euo pipefail\n",
      "\n",
      ": \"embeded parameters\", && {\n",
      "    inputbam=<%= inputbam %>\n",
      "    fastq1=<%= fastq1 %>\n",
      "    fastq2=<%= fastq2 %>\n",
      "    log=<%= log %>\n",
      "}\n",
      "\n",
      ": \"file paths and settings\" && {\n",
      "    jar=/xcatopt/picard-tools-2.19.0/picard.jar\n",
      "    scratch=/peta/btm/scratch\n",
      "    #java=/xcatopt/jre1.8.0_212/bin/java\n",
      "    java=java\n",
      "    javaopt=\"-Xmx16g\"\n",
      "}\n",
      "\n",
      ": \"run picard\" && {\n",
      "    ${java} ${javaopt} \\\n",
      "\t -jar ${jar} \\\n",
      "\t SamToFastq \\\n",
      "\t INPUT=${inputbam} \\\n",
      "\t FASTQ=${fastq1} \\\n",
      "\t SECOND_END_FASTQ=${fastq2} \\\n",
      "\t INCLUDE_NON_PF_READS=false \\\n",
      "\t CLIPPING_ATTRIBUTE=XT \\\n",
      "\t CLIPPING_ACTION=X \\\n",
      "\t CLIPPING_MIN_LENGTH=0 \\\n",
      "\t TMP_DIR=${scratch} \\\n",
      "\t > ${log} 2>&1\n",
      "}\n"
     ]
    }
   ],
   "source": [
    "cat Templates/sge-SamToFastq.sh.erb"
   ]
  },
  {
   "cell_type": "code",
   "execution_count": 15,
   "metadata": {},
   "outputs": [
    {
     "name": "stdout",
     "output_type": "stream",
     "text": [
      "#!/bin/bash\n",
      "#$ -S /bin/bash\n",
      "#$ -N b2fq1-0\n",
      "#$ -cwd\n",
      "#$ -m abe\n",
      "#$ -M root\n",
      "#$ -j yes\n",
      "#$ -pe smp 8\n",
      "#$ -q all.q\n",
      "set -euo pipefail\n",
      "\n",
      ": \"embeded parameters\", && {\n",
      "    inputbam=Unaligned/Project_dummy/Sample_dummy_Fa/dummy_Fa_ACACGACCNNNNNNNNNN_L001.u.bam\n",
      "    fastq1=Unaligned/Project_dummy/Sample_dummy_Fa/dummy_Fa_ACACGACCNNNNNNNNNN_L001_R1_001.fastq.gz\n",
      "    fastq2=Unaligned/Project_dummy/Sample_dummy_Fa/dummy_Fa_ACACGACCNNNNNNNNNN_L001_R2_001.fastq.gz\n",
      "    log=sge-SamToFastq_lane1-0.sh.log\n",
      "}\n",
      "\n",
      ": \"file paths and settings\" && {\n",
      "    jar=/xcatopt/picard-tools-2.19.0/picard.jar\n",
      "    scratch=/peta/btm/scratch\n",
      "    #java=/xcatopt/jre1.8.0_212/bin/java\n",
      "    java=java\n",
      "    javaopt=\"-Xmx16g\"\n",
      "}\n",
      "\n",
      ": \"run picard\" && {\n",
      "    ${java} ${javaopt} \\\n",
      "\t -jar ${jar} \\\n",
      "\t SamToFastq \\\n",
      "\t INPUT=${inputbam} \\\n",
      "\t FASTQ=${fastq1} \\\n",
      "\t SECOND_END_FASTQ=${fastq2} \\\n",
      "\t INCLUDE_NON_PF_READS=false \\\n",
      "\t CLIPPING_ATTRIBUTE=XT \\\n",
      "\t CLIPPING_ACTION=X \\\n",
      "\t CLIPPING_MIN_LENGTH=0 \\\n",
      "\t TMP_DIR=${scratch} \\\n",
      "\t > ${log} 2>&1\n",
      "}\n"
     ]
    }
   ],
   "source": [
    "cat sge-SamToFastq_lane1-0.sh"
   ]
  },
  {
   "cell_type": "code",
   "execution_count": 16,
   "metadata": {},
   "outputs": [
    {
     "name": "stdout",
     "output_type": "stream",
     "text": [
      "合計 11669216\n",
      "drwxrwxr-x 2 misshie misshie       4096  9月 17 09:32 \u001b[0m\u001b[38;5;5m.\u001b[0m\n",
      "drwxrwxr-x 5 misshie misshie        100  9月 11  2019 \u001b[38;5;5m..\u001b[0m\n",
      "-rw-r--r-- 1 misshie misshie 3252513941  9月 17 14:03 dummy_Fa_ACACGACCNNNNNNNNNN_L001.u.bam\n",
      "-rw-r--r-- 1 misshie misshie 1367129265  9月 17 14:26 \u001b[01;31mdummy_Fa_ACACGACCNNNNNNNNNN_L001_R1_001.fastq.gz\u001b[0m\n",
      "-rw-r--r-- 1 misshie misshie 1427475323  9月 17 14:26 \u001b[01;31mdummy_Fa_ACACGACCNNNNNNNNNN_L001_R2_001.fastq.gz\u001b[0m\n",
      "-rw-r--r-- 1 misshie misshie 3169524297  9月 17 13:59 dummy_Fa_ACACGACCNNNNNNNNNN_L002.u.bam\n",
      "-rw-r--r-- 1 misshie misshie 1337381279  9月 17 14:27 \u001b[01;31mdummy_Fa_ACACGACCNNNNNNNNNN_L002_R1_001.fastq.gz\u001b[0m\n",
      "-rw-r--r-- 1 misshie misshie 1395239388  9月 17 14:27 \u001b[01;31mdummy_Fa_ACACGACCNNNNNNNNNN_L002_R2_001.fastq.gz\u001b[0m\n"
     ]
    }
   ],
   "source": [
    "ls -al Unaligned/Project_dummy/Sample_dummy_Fa"
   ]
  },
  {
   "cell_type": "code",
   "execution_count": null,
   "metadata": {},
   "outputs": [],
   "source": []
  }
 ],
 "metadata": {
  "kernelspec": {
   "display_name": "Bash",
   "language": "bash",
   "name": "bash"
  },
  "language_info": {
   "codemirror_mode": "shell",
   "file_extension": ".sh",
   "mimetype": "text/x-sh",
   "name": "bash"
  }
 },
 "nbformat": 4,
 "nbformat_minor": 4
}
