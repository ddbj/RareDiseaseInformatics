{
 "cells": [
  {
   "cell_type": "markdown",
   "metadata": {},
   "source": [
    "# Sorting and Mark duplicates using UMI\n",
    "\n",
    "1. (010-020) Novosort + Picard MarkDuplicates"
   ]
  },
  {
   "cell_type": "code",
   "execution_count": 2,
   "metadata": {},
   "outputs": [
    {
     "name": "stdout",
     "output_type": "stream",
     "text": [
      "合計 28\n",
      "drwxrwsr-x 4 misshie genetics 4096  9月 20 09:26 \u001b[0m\u001b[38;5;5m.\u001b[0m\n",
      "drwxrwsr-x 3 misshie genetics   42  9月 20 09:25 \u001b[38;5;5m..\u001b[0m\n",
      "-rwxrwxr-x 1 misshie genetics 2445  9月 20 09:25 \u001b[38;5;202m010_ruby-deploy-novosort-alllanes-bothbam-UMIdedup.rb\u001b[0m\n",
      "-rwxrwxr-x 1 misshie genetics  207  9月 20 09:25 \u001b[38;5;202m020_ruby-sge-novosort-alllanes-UMIdedup.rb\u001b[0m\n",
      "drwxrwsr-x 3 misshie genetics   38  9月 20 09:26 \u001b[38;5;5mProjects\u001b[0m\n",
      "drwxrwsr-x 2 misshie genetics 4096  9月 20 09:25 \u001b[38;5;5mTemplates\u001b[0m\n"
     ]
    }
   ],
   "source": [
    "ls -al"
   ]
  },
  {
   "cell_type": "code",
   "execution_count": 7,
   "metadata": {
    "scrolled": true
   },
   "outputs": [
    {
     "name": "stdout",
     "output_type": "stream",
     "text": [
      "#!/bin/bash\n",
      "#$ -S /bin/bash\n",
      "#$ -N SortNGSK_IRUD_dummy_dummy\n",
      "#$ -cwd\n",
      "#$ -m abe\n",
      "#$ -M root\n",
      "#$ -j yes\n",
      "#$ -V\n",
      "#$ -pe smp 32\n",
      "set -euo pipefail\n",
      "\n",
      ": \"Novosort\" && {\n",
      "    NumThreads=32\n",
      "    scratch=/peta/btm/scratch\n",
      "    ram=2G\n",
      "    NovoSort=/xcatopt/novocraft-v3.03.02/novosort\n",
      "    suffix=\"__TEMP__\"\n",
      "\n",
      "    ${NovoSort} \\\n",
      "\t--threads ${NumThreads} \\\n",
      "\t--tmpdir ${scratch} \\\n",
      "\t--ram ${ram} \\\n",
      "\t--index \\\n",
      "\t--rg \"@RG\\tID:NGSK_IRUD_dummy_dummy\\tSM:NGSK_IRUD_dummy_dummy\\tLB:NGSK_IRUD_dummy_dummy\\tPL:ILLUMINA\" \\\n",
      "\t--output NGSK_IRUD_dummy_dummy.sort.bam${suffix} \\\n",
      "\t/peta/top/genetics/IRUD-P/AnalysesPrimary/NGSK_IRUD_dummy_dummy/run190909//Sample_NGSK_IRUD_dummy_dummy/NGSK_IRUD_dummy_dummy_L001.unsort.merged.bam /peta/top/genetics/IRUD-P/AnalysesPrimary/NGSK_IRUD_dummy_dummy/run190909//Sample_NGSK_IRUD_dummy_dummy/NGSK_IRUD_dummy_dummy_L002.unsort.merged.bam \\\n",
      "\t2> NGSK_IRUD_dummy_dummy.sort.bam.log${suffix}\n",
      "\n",
      "    mv NGSK_IRUD_dummy_dummy.sort.bam${suffix} NGSK_IRUD_dummy_dummy.sort.bam\n",
      "    mv NGSK_IRUD_dummy_dummy.sort.bam${suffix}.bai NGSK_IRUD_dummy_dummy.sort.bam.bai\n",
      "    mv NGSK_IRUD_dummy_dummy.sort.bam.log${suffix} NGSK_IRUD_dummy_dummy.sort.bam.log\n",
      "}\n",
      "\n",
      ": \"MarkDuplicates\" && {\n",
      "    java=/xcatopt/jre1.8.0_212/bin/java\n",
      "    jar=/xcatopt/picard-tools-2.19.0/picard.jar\n",
      "    temp=/peta/btm/scratch\n",
      "    xmx=24g\n",
      "    ref=/scratch/Genomes/human_hg19_GRCh37/hg19.hg1x.fasta\n",
      "    suffix=\"__TEMP__\"\n",
      "    \n",
      "    ${java} \\\n",
      "\t-Xmx${xmx} \\\n",
      "\t-Djava.io.tmpdir=${temp} \\\n",
      "\t-jar ${jar} MarkDuplicates \\\n",
      "\tI=NGSK_IRUD_dummy_dummy.sort.bam \\\n",
      "\tO=NGSK_IRUD_dummy_dummy.sort.dedup.bam${suffix} \\\n",
      "\tM=NGSK_IRUD_dummy_dummy.sort.dedup.metrics.txt${suffix} \\\n",
      "\tCREATE_INDEX=true \\\n",
      "\tVALIDATION_STRINGENCY=LENIENT \\\n",
      "\tBARCODE_TAG=RX \\\n",
      "\tTAG_DUPLICATE_SET_MEMBERS=true \\\n",
      "\t> NGSK_IRUD_dummy_dummy.sort.dedup.bam.log 2>&1\n",
      "\n",
      "    mv NGSK_IRUD_dummy_dummy.sort.dedup.bam${suffix} NGSK_IRUD_dummy_dummy.sort.dedup.bam\n",
      "    mv NGSK_IRUD_dummy_dummy.sort.dedup.bam${suffix}.bai NGSK_IRUD_dummy_dummy.sort.dedup.bam.bai\n",
      "    mv NGSK_IRUD_dummy_dummy.sort.dedup.metrics.txt${suffix}  NGSK_IRUD_dummy_dummy.sort.dedup.metrics.txt\n",
      "    touch .sge-NovosortDedup.done\n",
      "}\n"
     ]
    }
   ],
   "source": [
    "cat Projects/NGSK_IRUD_dummy_dummy/sge-Novosort-NGSK_IRUD_dummy_dummy.sh"
   ]
  },
  {
   "cell_type": "code",
   "execution_count": null,
   "metadata": {},
   "outputs": [],
   "source": []
  }
 ],
 "metadata": {
  "kernelspec": {
   "display_name": "Bash",
   "language": "bash",
   "name": "bash"
  },
  "language_info": {
   "codemirror_mode": "shell",
   "file_extension": ".sh",
   "mimetype": "text/x-sh",
   "name": "bash"
  }
 },
 "nbformat": 4,
 "nbformat_minor": 4
}
